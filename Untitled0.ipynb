{
  "nbformat": 4,
  "nbformat_minor": 0,
  "metadata": {
    "colab": {
      "provenance": [],
      "authorship_tag": "ABX9TyPF7KUWs3BrmIr8BWVuWLDr",
      "include_colab_link": true
    },
    "kernelspec": {
      "name": "python3",
      "display_name": "Python 3"
    },
    "language_info": {
      "name": "python"
    }
  },
  "cells": [
    {
      "cell_type": "markdown",
      "metadata": {
        "id": "view-in-github",
        "colab_type": "text"
      },
      "source": [
        "<a href=\"https://colab.research.google.com/github/rtinteg/notebook/blob/main/Untitled0.ipynb\" target=\"_parent\"><img src=\"https://colab.research.google.com/assets/colab-badge.svg\" alt=\"Open In Colab\"/></a>"
      ]
    },
    {
      "cell_type": "code",
      "source": [
        "import pandas as pd\n",
        "\n",
        "# Ruta del archivo Parquet\n",
        "ruta_archivo = \"Esteban06m20g.parquet\"\n",
        "\n",
        "# Leer el archivo Parquet en un DataFrame de pandas\n",
        "df = pd.read_parquet(ruta_archivo)\n",
        "\n",
        "# Función para generar el linaje en formato de texto\n",
        "def generar_linaje_texto(df, nivel=0, indentacion=\"\"):\n",
        "    linaje = \"\"\n",
        "\n",
        "    linaje += f\"{indentacion}└── {df}\\n\"\n",
        "\n",
        "    if isinstance(df, pd.DataFrame):\n",
        "        for columna in df.columns:\n",
        "            linaje += f\"{indentacion}    ├── {columna}\\n\"\n",
        "            linaje += generar_linaje_texto(df[columna], nivel + 1, indentacion + \"    \")\n",
        "    elif isinstance(df, pd.Series) and df.dtype == \"object\":\n",
        "        for valor in df.drop_duplicates().values:\n",
        "            linaje += f\"{indentacion}    ├── {valor}\\n\"\n",
        "\n",
        "    return linaje\n",
        "\n",
        "\n",
        "# Generar el linaje del DataFrame en formato de texto\n",
        "linaje_texto = generar_linaje_texto(df)\n",
        "\n",
        "# Calcular la correlación de las columnas del DataFrame\n",
        "correlacion = df.corr()\n",
        "\n",
        "# Crear un nuevo DataFrame para guardar linaje y correlación\n",
        "df_resultado = pd.DataFrame({\"Linaje del contenido\": [linaje_texto], \"Correlación\": [correlacion.to_string()]})\n",
        "\n",
        "# Guardar el DataFrame en un archivo de Excel\n",
        "ruta_archivo_excel = \"linaje_piloto_9.xlsx\"\n",
        "df_resultado.to_excel(ruta_archivo_excel, index=False)\n",
        "\n",
        "print(f\"Se ha generado el linaje y la correlación del contenido en el archivo Excel: {ruta_archivo_excel}\")\n"
      ],
      "metadata": {
        "colab": {
          "base_uri": "https://localhost:8080/"
        },
        "id": "peMg0yvY1g-p",
        "outputId": "1a2cf35d-b4d3-4e2f-a095-4db33d6044a4"
      },
      "execution_count": 1,
      "outputs": [
        {
          "output_type": "stream",
          "name": "stderr",
          "text": [
            "<ipython-input-1-5caacfe6fd30>:30: FutureWarning: The default value of numeric_only in DataFrame.corr is deprecated. In a future version, it will default to False. Select only valid columns or specify the value of numeric_only to silence this warning.\n",
            "  correlacion = df.corr()\n"
          ]
        },
        {
          "output_type": "stream",
          "name": "stdout",
          "text": [
            "Se ha generado el linaje y la correlación del contenido en el archivo Excel: linaje_piloto_9.xlsx\n"
          ]
        }
      ]
    }
  ]
}